{
  "nbformat": 4,
  "nbformat_minor": 0,
  "metadata": {
    "colab": {
      "provenance": [],
      "authorship_tag": "ABX9TyOaOv5XWPhXWEv33dPgsQMl",
      "include_colab_link": true
    },
    "kernelspec": {
      "name": "python3",
      "display_name": "Python 3"
    },
    "language_info": {
      "name": "python"
    }
  },
  "cells": [
    {
      "cell_type": "markdown",
      "metadata": {
        "id": "view-in-github",
        "colab_type": "text"
      },
      "source": [
        "<a href=\"https://colab.research.google.com/github/Laere11/Laere11/blob/Robotics/solve_Z_in_3x3matrix.ipynb\" target=\"_parent\"><img src=\"https://colab.research.google.com/assets/colab-badge.svg\" alt=\"Open In Colab\"/></a>"
      ]
    },
    {
      "cell_type": "code",
      "execution_count": 1,
      "metadata": {
        "colab": {
          "base_uri": "https://localhost:8080/"
        },
        "id": "1-6P2Q386J9J",
        "outputId": "7dd85395-4f4e-4758-d953-c26e02e60115"
      },
      "outputs": [
        {
          "output_type": "stream",
          "name": "stdout",
          "text": [
            "Create a 3x3 rotation or homogeneous transformation matrix.\n",
            "Note: Columns X and Y should be orthogonal unit vectors.\n",
            "Enter the X column values as x, y, z (comma-separated): 0 0 1\n",
            "Invalid input. Please enter three numeric values separated by commas.\n",
            "Enter the X column values as x, y, z (comma-separated): 0, 0, 1\n",
            "Enter the Y column values as x, y, z (comma-separated): -1, 0, 0\n",
            "\n",
            "Resulting Rotation Matrix:\n",
            "[[ 0. -1.  0.]\n",
            " [ 0.  0. -1.]\n",
            " [ 1.  0.  0.]]\n",
            "Do you want to include a translation component? (yes/no): yes\n",
            "Enter the translation (tx, ty, tz) column values as x, y, z (comma-separated): 1, 0, 0\n",
            "\n",
            "Resulting Homogeneous Transformation Matrix:\n",
            "[[ 0. -1.  0.  1.]\n",
            " [ 0.  0. -1.  0.]\n",
            " [ 1.  0.  0.  0.]\n",
            " [ 0.  0.  0.  1.]]\n"
          ]
        }
      ],
      "source": [
        "import numpy as np\n",
        "\n",
        "def get_vector_input(prompt):\n",
        "    \"\"\"Prompt the user for a 3D vector.\"\"\"\n",
        "    while True:\n",
        "        try:\n",
        "            values = input(f\"Enter the {prompt} column values as x, y, z (comma-separated): \").strip()\n",
        "            vector = np.array([float(v) for v in values.split(\",\")])\n",
        "            if vector.shape == (3,):\n",
        "                return vector\n",
        "            else:\n",
        "                print(\"Please enter exactly three values.\")\n",
        "        except ValueError:\n",
        "            print(\"Invalid input. Please enter three numeric values separated by commas.\")\n",
        "\n",
        "def normalize_vector(v):\n",
        "    \"\"\"Normalize a 3D vector.\"\"\"\n",
        "    norm = np.linalg.norm(v)\n",
        "    if norm == 0:\n",
        "        raise ValueError(\"Zero vector cannot be normalized.\")\n",
        "    return v / norm\n",
        "\n",
        "def main():\n",
        "    print(\"Create a 3x3 rotation or homogeneous transformation matrix.\")\n",
        "    print(\"Note: Columns X and Y should be orthogonal unit vectors.\")\n",
        "\n",
        "    # Get user input for X and Y columns\n",
        "    x_col = get_vector_input(\"X\")\n",
        "    y_col = get_vector_input(\"Y\")\n",
        "\n",
        "    # Normalize X and Y\n",
        "    x_col = normalize_vector(x_col)\n",
        "    y_col = normalize_vector(y_col)\n",
        "\n",
        "    # Ensure orthogonality of X and Y\n",
        "    if not np.isclose(np.dot(x_col, y_col), 0):\n",
        "        print(\"Adjusting Y to be orthogonal to X.\")\n",
        "        y_col = y_col - np.dot(x_col, y_col) * x_col\n",
        "        y_col = normalize_vector(y_col)\n",
        "\n",
        "    # Calculate Z as the cross product of X and Y\n",
        "    z_col = np.cross(x_col, y_col)\n",
        "\n",
        "    # Form the rotation matrix\n",
        "    rotation_matrix = np.column_stack((x_col, y_col, z_col))\n",
        "\n",
        "    # Display the result\n",
        "    print(\"\\nResulting Rotation Matrix:\")\n",
        "    print(rotation_matrix)\n",
        "\n",
        "    # Check if the user wants a homogeneous transformation matrix\n",
        "    add_translation = input(\"Do you want to include a translation component? (yes/no): \").strip().lower()\n",
        "    if add_translation in ['yes', 'y']:\n",
        "        translation = get_vector_input(\"translation (tx, ty, tz)\")\n",
        "        homogenous_matrix = np.eye(4)\n",
        "        homogenous_matrix[:3, :3] = rotation_matrix\n",
        "        homogenous_matrix[:3, 3] = translation\n",
        "        print(\"\\nResulting Homogeneous Transformation Matrix:\")\n",
        "        print(homogenous_matrix)\n",
        "\n",
        "if __name__ == \"__main__\":\n",
        "    main()\n"
      ]
    }
  ]
}