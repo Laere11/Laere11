{
  "nbformat": 4,
  "nbformat_minor": 0,
  "metadata": {
    "colab": {
      "provenance": [],
      "authorship_tag": "ABX9TyNC3KhFWyEO+OGDIHDFHtqV",
      "include_colab_link": true
    },
    "kernelspec": {
      "name": "python3",
      "display_name": "Python 3"
    },
    "language_info": {
      "name": "python"
    }
  },
  "cells": [
    {
      "cell_type": "markdown",
      "metadata": {
        "id": "view-in-github",
        "colab_type": "text"
      },
      "source": [
        "<a href=\"https://colab.research.google.com/github/Laere11/Laere11/blob/Material-Sciences/Matminer_feature_extraction.ipynb\" target=\"_parent\"><img src=\"https://colab.research.google.com/assets/colab-badge.svg\" alt=\"Open In Colab\"/></a>"
      ]
    },
    {
      "cell_type": "code",
      "source": [
        "# Install necessary dependencies\n",
        "!pip install pymatgen matminer"
      ],
      "metadata": {
        "id": "64JrmFxlgZ4q"
      },
      "execution_count": null,
      "outputs": []
    },
    {
      "cell_type": "markdown",
      "source": [
        "This code demonstrates how to use Matminer (in conjunction with pymatgen) to extract features from a synthetic crystal composition.\n",
        "\n",
        "**Using Matminer for Feature Extraction**\n",
        "This example creates a simple NaCl crystal structure using pymatgen and then uses a Matminer featurizer (using the “magpie” preset) to extract composition‑based features.\n",
        "\n",
        "What this code does:\n",
        "\n",
        "Installs and imports pymatgen and matminer.\n",
        "Creates a simple NaCl crystal structure.\n",
        "Uses Matminer’s ElementProperty featurizer (with the Magpie preset) to compute a set of descriptors from the material’s composition.\n",
        "Prints out the list of features.\n",
        "\n",
        "Why was this code created, what purpose does it serve?\n",
        "This code is meant to illustrate typical outputs and post-processing steps one might perform with **MatterGen** outputs.  MatterGen represents a new paradigm of materials design enabled by generative AI technology. It explores a significantly larger space of materials than screening-based methods. It is also more efficient by guiding materials exploration with prompts.\n"
      ],
      "metadata": {
        "id": "0FXRwSpuiNWa"
      }
    },
    {
      "cell_type": "code",
      "source": [
        "# Import required modules\n",
        "from pymatgen.core import Lattice, Structure\n",
        "from matminer.featurizers.composition import ElementProperty\n",
        "from IPython.display import display, HTML\n",
        "import numpy as np\n",
        "\n",
        "# Create a simple NaCl structure\n",
        "lattice = Lattice.cubic(5.64)  # approximate lattice parameter in Å\n",
        "structure = Structure(lattice, [\"Na\", \"Cl\"], [[0, 0, 0], [0.5, 0.5, 0.5]])\n",
        "\n",
        "# Extract the composition from the structure\n",
        "comp = structure.composition\n",
        "\n",
        "# Initialize a Matminer featurizer using the 'magpie' preset\n",
        "ep = ElementProperty.from_preset(\"magpie\")\n",
        "features = ep.featurize(comp)\n",
        "feature_labels = ep.feature_labels()\n",
        "\n",
        "# Filter out label/value pairs where the value is exactly 0 or 1\n",
        "# Also remove the redundant \"MagpieData\" text from each label\n",
        "filtered_pairs = []\n",
        "for label, value in zip(feature_labels, features):\n",
        "    if not (value == 0 or value == 1):\n",
        "        clean_label = label.replace(\"MagpieData\", \"\")  # Remove redundant text\n",
        "        filtered_pairs.append(f\"{clean_label.strip()}: {value:.4f}\")\n",
        "\n",
        "# Create rows with 6 cells per row\n",
        "rows_html = \"\"\n",
        "cols_per_row = 6\n",
        "for i in range(0, len(filtered_pairs), cols_per_row):\n",
        "    row_cells = filtered_pairs[i:i+cols_per_row]\n",
        "    row_html = \"<tr>\" + \"\".join(\n",
        "        f\"<td style='border: 1px solid black; padding: 5px;'>{cell}</td>\"\n",
        "        for cell in row_cells\n",
        "    ) + \"</tr>\"\n",
        "    rows_html += row_html\n",
        "\n",
        "# Build complete HTML table with a title block\n",
        "html_output = f\"\"\"\n",
        "<div style=\"font-family: Arial, sans-serif;\">\n",
        "  <h2 style=\"text-align: center;\">The Extracted Features for NaCl</h2>\n",
        "  <table style=\"width:100%; border-collapse: collapse; text-align: left;\">\n",
        "    {rows_html}\n",
        "  </table>\n",
        "</div>\n",
        "\"\"\"\n",
        "\n",
        "display(HTML(html_output))\n"
      ],
      "metadata": {
        "colab": {
          "base_uri": "https://localhost:8080/",
          "height": 434
        },
        "id": "ypsN60VXf2kY",
        "outputId": "3d6b42be-2cd2-4de0-cd95-2ea1322c2262"
      },
      "execution_count": 18,
      "outputs": [
        {
          "output_type": "display_data",
          "data": {
            "text/plain": [
              "<IPython.core.display.HTML object>"
            ],
            "text/html": [
              "\n",
              "<div style=\"font-family: Arial, sans-serif;\">\n",
              "  <h2 style=\"text-align: center;\">The Extracted Features for NaCl</h2>\n",
              "  <table style=\"width:100%; border-collapse: collapse; text-align: left;\">\n",
              "    <tr><td style='border: 1px solid black; padding: 5px;'>minimum Number: 11.0000</td><td style='border: 1px solid black; padding: 5px;'>maximum Number: 17.0000</td><td style='border: 1px solid black; padding: 5px;'>range Number: 6.0000</td><td style='border: 1px solid black; padding: 5px;'>mean Number: 14.0000</td><td style='border: 1px solid black; padding: 5px;'>avg_dev Number: 3.0000</td><td style='border: 1px solid black; padding: 5px;'>mode Number: 11.0000</td></tr><tr><td style='border: 1px solid black; padding: 5px;'>minimum MendeleevNumber: 2.0000</td><td style='border: 1px solid black; padding: 5px;'>maximum MendeleevNumber: 94.0000</td><td style='border: 1px solid black; padding: 5px;'>range MendeleevNumber: 92.0000</td><td style='border: 1px solid black; padding: 5px;'>mean MendeleevNumber: 48.0000</td><td style='border: 1px solid black; padding: 5px;'>avg_dev MendeleevNumber: 46.0000</td><td style='border: 1px solid black; padding: 5px;'>mode MendeleevNumber: 2.0000</td></tr><tr><td style='border: 1px solid black; padding: 5px;'>minimum AtomicWeight: 22.9898</td><td style='border: 1px solid black; padding: 5px;'>maximum AtomicWeight: 35.4530</td><td style='border: 1px solid black; padding: 5px;'>range AtomicWeight: 12.4632</td><td style='border: 1px solid black; padding: 5px;'>mean AtomicWeight: 29.2214</td><td style='border: 1px solid black; padding: 5px;'>avg_dev AtomicWeight: 6.2316</td><td style='border: 1px solid black; padding: 5px;'>mode AtomicWeight: 22.9898</td></tr><tr><td style='border: 1px solid black; padding: 5px;'>minimum MeltingT: 171.6000</td><td style='border: 1px solid black; padding: 5px;'>maximum MeltingT: 370.8700</td><td style='border: 1px solid black; padding: 5px;'>range MeltingT: 199.2700</td><td style='border: 1px solid black; padding: 5px;'>mean MeltingT: 271.2350</td><td style='border: 1px solid black; padding: 5px;'>avg_dev MeltingT: 99.6350</td><td style='border: 1px solid black; padding: 5px;'>mode MeltingT: 171.6000</td></tr><tr><td style='border: 1px solid black; padding: 5px;'>maximum Column: 17.0000</td><td style='border: 1px solid black; padding: 5px;'>range Column: 16.0000</td><td style='border: 1px solid black; padding: 5px;'>mean Column: 9.0000</td><td style='border: 1px solid black; padding: 5px;'>avg_dev Column: 8.0000</td><td style='border: 1px solid black; padding: 5px;'>minimum Row: 3.0000</td><td style='border: 1px solid black; padding: 5px;'>maximum Row: 3.0000</td></tr><tr><td style='border: 1px solid black; padding: 5px;'>mean Row: 3.0000</td><td style='border: 1px solid black; padding: 5px;'>mode Row: 3.0000</td><td style='border: 1px solid black; padding: 5px;'>minimum CovalentRadius: 102.0000</td><td style='border: 1px solid black; padding: 5px;'>maximum CovalentRadius: 166.0000</td><td style='border: 1px solid black; padding: 5px;'>range CovalentRadius: 64.0000</td><td style='border: 1px solid black; padding: 5px;'>mean CovalentRadius: 134.0000</td></tr><tr><td style='border: 1px solid black; padding: 5px;'>avg_dev CovalentRadius: 32.0000</td><td style='border: 1px solid black; padding: 5px;'>mode CovalentRadius: 102.0000</td><td style='border: 1px solid black; padding: 5px;'>minimum Electronegativity: 0.9300</td><td style='border: 1px solid black; padding: 5px;'>maximum Electronegativity: 3.1600</td><td style='border: 1px solid black; padding: 5px;'>range Electronegativity: 2.2300</td><td style='border: 1px solid black; padding: 5px;'>mean Electronegativity: 2.0450</td></tr><tr><td style='border: 1px solid black; padding: 5px;'>avg_dev Electronegativity: 1.1150</td><td style='border: 1px solid black; padding: 5px;'>mode Electronegativity: 0.9300</td><td style='border: 1px solid black; padding: 5px;'>maximum NsValence: 2.0000</td><td style='border: 1px solid black; padding: 5px;'>mean NsValence: 1.5000</td><td style='border: 1px solid black; padding: 5px;'>avg_dev NsValence: 0.5000</td><td style='border: 1px solid black; padding: 5px;'>maximum NpValence: 5.0000</td></tr><tr><td style='border: 1px solid black; padding: 5px;'>range NpValence: 5.0000</td><td style='border: 1px solid black; padding: 5px;'>mean NpValence: 2.5000</td><td style='border: 1px solid black; padding: 5px;'>avg_dev NpValence: 2.5000</td><td style='border: 1px solid black; padding: 5px;'>maximum NValence: 7.0000</td><td style='border: 1px solid black; padding: 5px;'>range NValence: 6.0000</td><td style='border: 1px solid black; padding: 5px;'>mean NValence: 4.0000</td></tr><tr><td style='border: 1px solid black; padding: 5px;'>avg_dev NValence: 3.0000</td><td style='border: 1px solid black; padding: 5px;'>mean NsUnfilled: 0.5000</td><td style='border: 1px solid black; padding: 5px;'>avg_dev NsUnfilled: 0.5000</td><td style='border: 1px solid black; padding: 5px;'>mean NpUnfilled: 0.5000</td><td style='border: 1px solid black; padding: 5px;'>avg_dev NpUnfilled: 0.5000</td><td style='border: 1px solid black; padding: 5px;'>minimum GSvolume_pa: 24.4975</td></tr><tr><td style='border: 1px solid black; padding: 5px;'>maximum GSvolume_pa: 29.2433</td><td style='border: 1px solid black; padding: 5px;'>range GSvolume_pa: 4.7458</td><td style='border: 1px solid black; padding: 5px;'>mean GSvolume_pa: 26.8704</td><td style='border: 1px solid black; padding: 5px;'>avg_dev GSvolume_pa: 2.3729</td><td style='border: 1px solid black; padding: 5px;'>mode GSvolume_pa: 24.4975</td><td style='border: 1px solid black; padding: 5px;'>maximum GSbandgap: 2.4930</td></tr><tr><td style='border: 1px solid black; padding: 5px;'>range GSbandgap: 2.4930</td><td style='border: 1px solid black; padding: 5px;'>mean GSbandgap: 1.2465</td><td style='border: 1px solid black; padding: 5px;'>avg_dev GSbandgap: 1.2465</td><td style='border: 1px solid black; padding: 5px;'>minimum SpaceGroupNumber: 64.0000</td><td style='border: 1px solid black; padding: 5px;'>maximum SpaceGroupNumber: 229.0000</td><td style='border: 1px solid black; padding: 5px;'>range SpaceGroupNumber: 165.0000</td></tr><tr><td style='border: 1px solid black; padding: 5px;'>mean SpaceGroupNumber: 146.5000</td><td style='border: 1px solid black; padding: 5px;'>avg_dev SpaceGroupNumber: 82.5000</td><td style='border: 1px solid black; padding: 5px;'>mode SpaceGroupNumber: 64.0000</td></tr>\n",
              "  </table>\n",
              "</div>\n"
            ]
          },
          "metadata": {}
        }
      ]
    },
    {
      "cell_type": "markdown",
      "source": [
        "Explanation\n",
        "Dependencies:\n",
        "The code installs and imports pymatgen and matminer for creating the structure and extracting features. It also uses IPython’s HTML display for a nicely formatted table.\n",
        "\n",
        "Structure Creation & Feature Extraction:\n",
        "A NaCl crystal is created and the ElementProperty featurizer (using the Magpie preset) computes a set of descriptors.\n",
        "\n",
        "Filtering:\n",
        "The code excludes any feature whose value is exactly 0 or 1."
      ],
      "metadata": {
        "id": "g-iiEEKsiky2"
      }
    },
    {
      "cell_type": "markdown",
      "source": [
        "The code below is basic version from above which provides a simple text list output of all values (unfiltered)"
      ],
      "metadata": {
        "id": "yRz6fXr-gdy2"
      }
    },
    {
      "cell_type": "code",
      "execution_count": 17,
      "metadata": {
        "colab": {
          "base_uri": "https://localhost:8080/"
        },
        "id": "1u-n6tPWR-FL",
        "outputId": "a33d1a30-29f0-4460-b7f7-b09f8491fb8e"
      },
      "outputs": [
        {
          "output_type": "stream",
          "name": "stdout",
          "text": [
            "Extracted Features for NaCl:\n",
            "MagpieData minimum Number: 11.0\n",
            "MagpieData maximum Number: 17.0\n",
            "MagpieData range Number: 6.0\n",
            "MagpieData mean Number: 14.0\n",
            "MagpieData avg_dev Number: 3.0\n",
            "MagpieData mode Number: 11.0\n",
            "MagpieData minimum MendeleevNumber: 2.0\n",
            "MagpieData maximum MendeleevNumber: 94.0\n",
            "MagpieData range MendeleevNumber: 92.0\n",
            "MagpieData mean MendeleevNumber: 48.0\n",
            "MagpieData avg_dev MendeleevNumber: 46.0\n",
            "MagpieData mode MendeleevNumber: 2.0\n",
            "MagpieData minimum AtomicWeight: 22.98976928\n",
            "MagpieData maximum AtomicWeight: 35.453\n",
            "MagpieData range AtomicWeight: 12.463230720000002\n",
            "MagpieData mean AtomicWeight: 29.221384640000004\n",
            "MagpieData avg_dev AtomicWeight: 6.231615360000001\n",
            "MagpieData mode AtomicWeight: 22.98976928\n",
            "MagpieData minimum MeltingT: 171.6\n",
            "MagpieData maximum MeltingT: 370.87\n",
            "MagpieData range MeltingT: 199.27\n",
            "MagpieData mean MeltingT: 271.235\n",
            "MagpieData avg_dev MeltingT: 99.635\n",
            "MagpieData mode MeltingT: 171.6\n",
            "MagpieData minimum Column: 1.0\n",
            "MagpieData maximum Column: 17.0\n",
            "MagpieData range Column: 16.0\n",
            "MagpieData mean Column: 9.0\n",
            "MagpieData avg_dev Column: 8.0\n",
            "MagpieData mode Column: 1.0\n",
            "MagpieData minimum Row: 3.0\n",
            "MagpieData maximum Row: 3.0\n",
            "MagpieData range Row: 0.0\n",
            "MagpieData mean Row: 3.0\n",
            "MagpieData avg_dev Row: 0.0\n",
            "MagpieData mode Row: 3.0\n",
            "MagpieData minimum CovalentRadius: 102.0\n",
            "MagpieData maximum CovalentRadius: 166.0\n",
            "MagpieData range CovalentRadius: 64.0\n",
            "MagpieData mean CovalentRadius: 134.0\n",
            "MagpieData avg_dev CovalentRadius: 32.0\n",
            "MagpieData mode CovalentRadius: 102.0\n",
            "MagpieData minimum Electronegativity: 0.93\n",
            "MagpieData maximum Electronegativity: 3.16\n",
            "MagpieData range Electronegativity: 2.23\n",
            "MagpieData mean Electronegativity: 2.045\n",
            "MagpieData avg_dev Electronegativity: 1.115\n",
            "MagpieData mode Electronegativity: 0.93\n",
            "MagpieData minimum NsValence: 1.0\n",
            "MagpieData maximum NsValence: 2.0\n",
            "MagpieData range NsValence: 1.0\n",
            "MagpieData mean NsValence: 1.5\n",
            "MagpieData avg_dev NsValence: 0.5\n",
            "MagpieData mode NsValence: 1.0\n",
            "MagpieData minimum NpValence: 0.0\n",
            "MagpieData maximum NpValence: 5.0\n",
            "MagpieData range NpValence: 5.0\n",
            "MagpieData mean NpValence: 2.5\n",
            "MagpieData avg_dev NpValence: 2.5\n",
            "MagpieData mode NpValence: 0.0\n",
            "MagpieData minimum NdValence: 0.0\n",
            "MagpieData maximum NdValence: 0.0\n",
            "MagpieData range NdValence: 0.0\n",
            "MagpieData mean NdValence: 0.0\n",
            "MagpieData avg_dev NdValence: 0.0\n",
            "MagpieData mode NdValence: 0.0\n",
            "MagpieData minimum NfValence: 0.0\n",
            "MagpieData maximum NfValence: 0.0\n",
            "MagpieData range NfValence: 0.0\n",
            "MagpieData mean NfValence: 0.0\n",
            "MagpieData avg_dev NfValence: 0.0\n",
            "MagpieData mode NfValence: 0.0\n",
            "MagpieData minimum NValence: 1.0\n",
            "MagpieData maximum NValence: 7.0\n",
            "MagpieData range NValence: 6.0\n",
            "MagpieData mean NValence: 4.0\n",
            "MagpieData avg_dev NValence: 3.0\n",
            "MagpieData mode NValence: 1.0\n",
            "MagpieData minimum NsUnfilled: 0.0\n",
            "MagpieData maximum NsUnfilled: 1.0\n",
            "MagpieData range NsUnfilled: 1.0\n",
            "MagpieData mean NsUnfilled: 0.5\n",
            "MagpieData avg_dev NsUnfilled: 0.5\n",
            "MagpieData mode NsUnfilled: 0.0\n",
            "MagpieData minimum NpUnfilled: 0.0\n",
            "MagpieData maximum NpUnfilled: 1.0\n",
            "MagpieData range NpUnfilled: 1.0\n",
            "MagpieData mean NpUnfilled: 0.5\n",
            "MagpieData avg_dev NpUnfilled: 0.5\n",
            "MagpieData mode NpUnfilled: 0.0\n",
            "MagpieData minimum NdUnfilled: 0.0\n",
            "MagpieData maximum NdUnfilled: 0.0\n",
            "MagpieData range NdUnfilled: 0.0\n",
            "MagpieData mean NdUnfilled: 0.0\n",
            "MagpieData avg_dev NdUnfilled: 0.0\n",
            "MagpieData mode NdUnfilled: 0.0\n",
            "MagpieData minimum NfUnfilled: 0.0\n",
            "MagpieData maximum NfUnfilled: 0.0\n",
            "MagpieData range NfUnfilled: 0.0\n",
            "MagpieData mean NfUnfilled: 0.0\n",
            "MagpieData avg_dev NfUnfilled: 0.0\n",
            "MagpieData mode NfUnfilled: 0.0\n",
            "MagpieData minimum NUnfilled: 1.0\n",
            "MagpieData maximum NUnfilled: 1.0\n",
            "MagpieData range NUnfilled: 0.0\n",
            "MagpieData mean NUnfilled: 1.0\n",
            "MagpieData avg_dev NUnfilled: 0.0\n",
            "MagpieData mode NUnfilled: 1.0\n",
            "MagpieData minimum GSvolume_pa: 24.4975\n",
            "MagpieData maximum GSvolume_pa: 29.2433333333\n",
            "MagpieData range GSvolume_pa: 4.745833333300002\n",
            "MagpieData mean GSvolume_pa: 26.87041666665\n",
            "MagpieData avg_dev GSvolume_pa: 2.372916666650001\n",
            "MagpieData mode GSvolume_pa: 24.4975\n",
            "MagpieData minimum GSbandgap: 0.0\n",
            "MagpieData maximum GSbandgap: 2.493\n",
            "MagpieData range GSbandgap: 2.493\n",
            "MagpieData mean GSbandgap: 1.2465\n",
            "MagpieData avg_dev GSbandgap: 1.2465\n",
            "MagpieData mode GSbandgap: 0.0\n",
            "MagpieData minimum GSmagmom: 0.0\n",
            "MagpieData maximum GSmagmom: 0.0\n",
            "MagpieData range GSmagmom: 0.0\n",
            "MagpieData mean GSmagmom: 0.0\n",
            "MagpieData avg_dev GSmagmom: 0.0\n",
            "MagpieData mode GSmagmom: 0.0\n",
            "MagpieData minimum SpaceGroupNumber: 64.0\n",
            "MagpieData maximum SpaceGroupNumber: 229.0\n",
            "MagpieData range SpaceGroupNumber: 165.0\n",
            "MagpieData mean SpaceGroupNumber: 146.5\n",
            "MagpieData avg_dev SpaceGroupNumber: 82.5\n",
            "MagpieData mode SpaceGroupNumber: 64.0\n"
          ]
        }
      ],
      "source": [
        "# Import required modules\n",
        "from pymatgen.core import Lattice, Structure, Composition\n",
        "from matminer.featurizers.composition import ElementProperty\n",
        "\n",
        "# Create a simple NaCl structure\n",
        "lattice = Lattice.cubic(5.64)  # approximate lattice parameter in Å\n",
        "structure = Structure(lattice, [\"Na\", \"Cl\"], [[0, 0, 0], [0.5, 0.5, 0.5]])\n",
        "\n",
        "# Extract the composition from the structure\n",
        "comp = structure.composition\n",
        "\n",
        "# Initialize a Matminer featurizer using the 'magpie' preset (which computes a variety of elemental properties)\n",
        "ep = ElementProperty.from_preset(\"magpie\")\n",
        "features = ep.featurize(comp)\n",
        "\n",
        "# Retrieve the names of the features for reference\n",
        "feature_labels = ep.feature_labels()\n",
        "\n",
        "print(\"Extracted Features for NaCl:\")\n",
        "for label, value in zip(feature_labels, features):\n",
        "    print(f\"{label}: {value}\")\n"
      ]
    },
    {
      "cell_type": "markdown",
      "source": [
        "\n",
        "# **Further Explaination of MatterGen**\n",
        "\n",
        "MatterGen is a generative AI tool that uses machine learning to design new materials. It can create materials with specific properties, such as mechanical, electronic, or magnetic properties.  \n",
        "How it works\n",
        "\n",
        "• MatterGen starts with a random arrangement of atoms\n",
        "• It adjusts the positions, elements, and periodic lattice of the atoms\n",
        "• It iteratively refines the arrangement into a stable, crystalline structure\n",
        "\n",
        "Features   \n",
        "\n",
        "• MatterGen can be fine-tuned to generate materials with specific design requirements\n",
        "• It can generate materials with desired chemical systems and space groups   \n",
        "• It can tackle the problem of finding materials with low supply-chain risk   \n",
        "• It can be applied to specific domains in materials science, such as developing biodegradable materials\n",
        "\n",
        "Training  \n",
        "\n",
        "• MatterGen is trained on a dataset of over 600,000 known materials\n",
        "• It uses a diffusion model, which is a type of machine learning that has been effective in image and protein design\n",
        "\n",
        "Benefits\n",
        "\n",
        "• MatterGen can help researchers discover materials that were previously unimaginable   \n",
        "• It can accelerate the discovery of materials that can lead to new technological advancements\n",
        "\n",
        "Generative AI is experimental.\n",
        "\n"
      ],
      "metadata": {
        "id": "yPth5ocknY6A"
      }
    }
  ]
}