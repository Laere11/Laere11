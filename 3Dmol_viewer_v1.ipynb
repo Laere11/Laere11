{
  "nbformat": 4,
  "nbformat_minor": 0,
  "metadata": {
    "colab": {
      "provenance": [],
      "authorship_tag": "ABX9TyMJi/71Kw+mGwhd+8JI8HSk",
      "include_colab_link": true
    },
    "kernelspec": {
      "name": "python3",
      "display_name": "Python 3"
    },
    "language_info": {
      "name": "python"
    }
  },
  "cells": [
    {
      "cell_type": "markdown",
      "metadata": {
        "id": "view-in-github",
        "colab_type": "text"
      },
      "source": [
        "<a href=\"https://colab.research.google.com/github/Laere11/Laere11/blob/Material-Sciences/3Dmol_viewer_v1.ipynb\" target=\"_parent\"><img src=\"https://colab.research.google.com/assets/colab-badge.svg\" alt=\"Open In Colab\"/></a>"
      ]
    },
    {
      "cell_type": "markdown",
      "source": [
        "# **3Dmol - interactive 3D molecular visualization**\n",
        "\n",
        "py3Dmol\n",
        "What it is: A Python wrapper around the 3Dmol.js viewer, letting you embed interactive 3D molecular visuals in a Jupyter notebook (similar to JSmol).\n",
        "Key features:\n",
        "Straightforward display of PDB, SDF, or XYZ data in 3D.\n",
        "Minimal setup in a notebook environment; you can script color, style, and orientation.\n",
        "Doesn’t require a local installation of Jmol or other Java viewers.  The xyz_data can be imported from from repositories with previously identified molecules or the user can experiment by changing values within the table.\n"
      ],
      "metadata": {
        "id": "zuFOjD0e3IZC"
      }
    },
    {
      "cell_type": "code",
      "source": [
        "!pip install py3Dmol # Install the missing py3Dmol package."
      ],
      "metadata": {
        "colab": {
          "base_uri": "https://localhost:8080/"
        },
        "id": "g_0Cvy0R2uFt",
        "outputId": "2f87878b-2500-496d-a76e-6f970f649984"
      },
      "execution_count": 2,
      "outputs": [
        {
          "output_type": "stream",
          "name": "stdout",
          "text": [
            "Collecting py3Dmol\n",
            "  Downloading py3Dmol-2.4.2-py2.py3-none-any.whl.metadata (1.9 kB)\n",
            "Downloading py3Dmol-2.4.2-py2.py3-none-any.whl (7.0 kB)\n",
            "Installing collected packages: py3Dmol\n",
            "Successfully installed py3Dmol-2.4.2\n"
          ]
        }
      ]
    },
    {
      "cell_type": "code",
      "execution_count": 3,
      "metadata": {
        "colab": {
          "base_uri": "https://localhost:8080/",
          "height": 317
        },
        "id": "iZLCLx5R2WAw",
        "outputId": "f313c5fe-3a63-4f60-cfbb-dd9492f9a64e"
      },
      "outputs": [
        {
          "output_type": "display_data",
          "data": {
            "application/3dmoljs_load.v0": "<div id=\"3dmolviewer_174115386380394\"  style=\"position: relative; width: 400px; height: 300px;\">\n        <p id=\"3dmolwarning_174115386380394\" style=\"background-color:#ffcccc;color:black\">3Dmol.js failed to load for some reason.  Please check your browser console for error messages.<br></p>\n        </div>\n<script>\n\nvar loadScriptAsync = function(uri){\n  return new Promise((resolve, reject) => {\n    //this is to ignore the existence of requirejs amd\n    var savedexports, savedmodule;\n    if (typeof exports !== 'undefined') savedexports = exports;\n    else exports = {}\n    if (typeof module !== 'undefined') savedmodule = module;\n    else module = {}\n\n    var tag = document.createElement('script');\n    tag.src = uri;\n    tag.async = true;\n    tag.onload = () => {\n        exports = savedexports;\n        module = savedmodule;\n        resolve();\n    };\n  var firstScriptTag = document.getElementsByTagName('script')[0];\n  firstScriptTag.parentNode.insertBefore(tag, firstScriptTag);\n});\n};\n\nif(typeof $3Dmolpromise === 'undefined') {\n$3Dmolpromise = null;\n  $3Dmolpromise = loadScriptAsync('https://cdnjs.cloudflare.com/ajax/libs/3Dmol/2.4.2/3Dmol-min.js');\n}\n\nvar viewer_174115386380394 = null;\nvar warn = document.getElementById(\"3dmolwarning_174115386380394\");\nif(warn) {\n    warn.parentNode.removeChild(warn);\n}\n$3Dmolpromise.then(function() {\nviewer_174115386380394 = $3Dmol.createViewer(document.getElementById(\"3dmolviewer_174115386380394\"),{backgroundColor:\"white\"});\nviewer_174115386380394.zoomTo();\n\tviewer_174115386380394.addModel(\"4\\nmethane\\nC  0.0   0.0   0.0\\nH  0.63  0.63  0.63\\nH -0.63 -0.63  0.63\\nH  0.63 -0.63 -0.63\\nH -0.63  0.63 -0.63\\n\",\"xyz\");\n\tviewer_174115386380394.setStyle({\"stick\": {}});\n\tviewer_174115386380394.zoomTo();\nviewer_174115386380394.render();\n});\n</script>",
            "text/html": [
              "<div id=\"3dmolviewer_174115386380394\"  style=\"position: relative; width: 400px; height: 300px;\">\n",
              "        <p id=\"3dmolwarning_174115386380394\" style=\"background-color:#ffcccc;color:black\">3Dmol.js failed to load for some reason.  Please check your browser console for error messages.<br></p>\n",
              "        </div>\n",
              "<script>\n",
              "\n",
              "var loadScriptAsync = function(uri){\n",
              "  return new Promise((resolve, reject) => {\n",
              "    //this is to ignore the existence of requirejs amd\n",
              "    var savedexports, savedmodule;\n",
              "    if (typeof exports !== 'undefined') savedexports = exports;\n",
              "    else exports = {}\n",
              "    if (typeof module !== 'undefined') savedmodule = module;\n",
              "    else module = {}\n",
              "\n",
              "    var tag = document.createElement('script');\n",
              "    tag.src = uri;\n",
              "    tag.async = true;\n",
              "    tag.onload = () => {\n",
              "        exports = savedexports;\n",
              "        module = savedmodule;\n",
              "        resolve();\n",
              "    };\n",
              "  var firstScriptTag = document.getElementsByTagName('script')[0];\n",
              "  firstScriptTag.parentNode.insertBefore(tag, firstScriptTag);\n",
              "});\n",
              "};\n",
              "\n",
              "if(typeof $3Dmolpromise === 'undefined') {\n",
              "$3Dmolpromise = null;\n",
              "  $3Dmolpromise = loadScriptAsync('https://cdnjs.cloudflare.com/ajax/libs/3Dmol/2.4.2/3Dmol-min.js');\n",
              "}\n",
              "\n",
              "var viewer_174115386380394 = null;\n",
              "var warn = document.getElementById(\"3dmolwarning_174115386380394\");\n",
              "if(warn) {\n",
              "    warn.parentNode.removeChild(warn);\n",
              "}\n",
              "$3Dmolpromise.then(function() {\n",
              "viewer_174115386380394 = $3Dmol.createViewer(document.getElementById(\"3dmolviewer_174115386380394\"),{backgroundColor:\"white\"});\n",
              "viewer_174115386380394.zoomTo();\n",
              "\tviewer_174115386380394.addModel(\"4\\nmethane\\nC  0.0   0.0   0.0\\nH  0.63  0.63  0.63\\nH -0.63 -0.63  0.63\\nH  0.63 -0.63 -0.63\\nH -0.63  0.63 -0.63\\n\",\"xyz\");\n",
              "\tviewer_174115386380394.setStyle({\"stick\": {}});\n",
              "\tviewer_174115386380394.zoomTo();\n",
              "viewer_174115386380394.render();\n",
              "});\n",
              "</script>"
            ]
          },
          "metadata": {}
        }
      ],
      "source": [
        "import py3Dmol\n",
        "\n",
        "xyz_data = \"\"\"4\n",
        "methane\n",
        "C  0.0   0.0   0.0\n",
        "H  0.63  0.63  0.63\n",
        "H -0.63 -0.63  0.63\n",
        "H  0.63 -0.63 -0.63\n",
        "H -0.63  0.63 -0.63\n",
        "\"\"\"\n",
        "\n",
        "view = py3Dmol.view(width=400,height=300)\n",
        "view.addModel(xyz_data, \"xyz\")\n",
        "view.setStyle({'stick':{}})\n",
        "view.zoomTo()\n",
        "view.show()\n"
      ]
    },
    {
      "cell_type": "code",
      "execution_count": 10,
      "metadata": {
        "colab": {
          "base_uri": "https://localhost:8080/",
          "height": 317
        },
        "outputId": "2f13391f-defe-47f8-ecf3-db2a1e7776f5",
        "id": "ow5wKSXPIlWi"
      },
      "outputs": [
        {
          "output_type": "display_data",
          "data": {
            "application/3dmoljs_load.v0": "<div id=\"3dmolviewer_1741158619721478\"  style=\"position: relative; width: 400px; height: 300px;\">\n        <p id=\"3dmolwarning_1741158619721478\" style=\"background-color:#ffcccc;color:black\">3Dmol.js failed to load for some reason.  Please check your browser console for error messages.<br></p>\n        </div>\n<script>\n\nvar loadScriptAsync = function(uri){\n  return new Promise((resolve, reject) => {\n    //this is to ignore the existence of requirejs amd\n    var savedexports, savedmodule;\n    if (typeof exports !== 'undefined') savedexports = exports;\n    else exports = {}\n    if (typeof module !== 'undefined') savedmodule = module;\n    else module = {}\n\n    var tag = document.createElement('script');\n    tag.src = uri;\n    tag.async = true;\n    tag.onload = () => {\n        exports = savedexports;\n        module = savedmodule;\n        resolve();\n    };\n  var firstScriptTag = document.getElementsByTagName('script')[0];\n  firstScriptTag.parentNode.insertBefore(tag, firstScriptTag);\n});\n};\n\nif(typeof $3Dmolpromise === 'undefined') {\n$3Dmolpromise = null;\n  $3Dmolpromise = loadScriptAsync('https://cdnjs.cloudflare.com/ajax/libs/3Dmol/2.4.2/3Dmol-min.js');\n}\n\nvar viewer_1741158619721478 = null;\nvar warn = document.getElementById(\"3dmolwarning_1741158619721478\");\nif(warn) {\n    warn.parentNode.removeChild(warn);\n}\n$3Dmolpromise.then(function() {\nviewer_1741158619721478 = $3Dmol.createViewer(document.getElementById(\"3dmolviewer_1741158619721478\"),{backgroundColor:\"white\"});\nviewer_1741158619721478.zoomTo();\n\tviewer_1741158619721478.addModel(\"4\\nuknown\\nC  0.0   0.0   0.0\\nH  0.33  0.33  0.33\\nH -0.63 -0.63  0.63\\nH  0.73 -0.73 -0.73\\nH -0.83  0.83 -0.83\\n\",\"xyz\");\n\tviewer_1741158619721478.setStyle({\"stick\": {}});\n\tviewer_1741158619721478.zoomTo();\nviewer_1741158619721478.render();\n});\n</script>",
            "text/html": [
              "<div id=\"3dmolviewer_1741158619721478\"  style=\"position: relative; width: 400px; height: 300px;\">\n",
              "        <p id=\"3dmolwarning_1741158619721478\" style=\"background-color:#ffcccc;color:black\">3Dmol.js failed to load for some reason.  Please check your browser console for error messages.<br></p>\n",
              "        </div>\n",
              "<script>\n",
              "\n",
              "var loadScriptAsync = function(uri){\n",
              "  return new Promise((resolve, reject) => {\n",
              "    //this is to ignore the existence of requirejs amd\n",
              "    var savedexports, savedmodule;\n",
              "    if (typeof exports !== 'undefined') savedexports = exports;\n",
              "    else exports = {}\n",
              "    if (typeof module !== 'undefined') savedmodule = module;\n",
              "    else module = {}\n",
              "\n",
              "    var tag = document.createElement('script');\n",
              "    tag.src = uri;\n",
              "    tag.async = true;\n",
              "    tag.onload = () => {\n",
              "        exports = savedexports;\n",
              "        module = savedmodule;\n",
              "        resolve();\n",
              "    };\n",
              "  var firstScriptTag = document.getElementsByTagName('script')[0];\n",
              "  firstScriptTag.parentNode.insertBefore(tag, firstScriptTag);\n",
              "});\n",
              "};\n",
              "\n",
              "if(typeof $3Dmolpromise === 'undefined') {\n",
              "$3Dmolpromise = null;\n",
              "  $3Dmolpromise = loadScriptAsync('https://cdnjs.cloudflare.com/ajax/libs/3Dmol/2.4.2/3Dmol-min.js');\n",
              "}\n",
              "\n",
              "var viewer_1741158619721478 = null;\n",
              "var warn = document.getElementById(\"3dmolwarning_1741158619721478\");\n",
              "if(warn) {\n",
              "    warn.parentNode.removeChild(warn);\n",
              "}\n",
              "$3Dmolpromise.then(function() {\n",
              "viewer_1741158619721478 = $3Dmol.createViewer(document.getElementById(\"3dmolviewer_1741158619721478\"),{backgroundColor:\"white\"});\n",
              "viewer_1741158619721478.zoomTo();\n",
              "\tviewer_1741158619721478.addModel(\"4\\nuknown\\nC  0.0   0.0   0.0\\nH  0.33  0.33  0.33\\nH -0.63 -0.63  0.63\\nH  0.73 -0.73 -0.73\\nH -0.83  0.83 -0.83\\n\",\"xyz\");\n",
              "\tviewer_1741158619721478.setStyle({\"stick\": {}});\n",
              "\tviewer_1741158619721478.zoomTo();\n",
              "viewer_1741158619721478.render();\n",
              "});\n",
              "</script>"
            ]
          },
          "metadata": {}
        }
      ],
      "source": [
        "import py3Dmol\n",
        "\n",
        "xyz_data = \"\"\"4\n",
        "uknown\n",
        "C  0.0   0.0   0.0\n",
        "H  0.33  0.33  0.33\n",
        "H -0.63 -0.63  0.63\n",
        "H  0.73 -0.73 -0.73\n",
        "H -0.83  0.83 -0.83\n",
        "\"\"\"\n",
        "\n",
        "view = py3Dmol.view(width=400,height=300)\n",
        "view.addModel(xyz_data, \"xyz\")\n",
        "view.setStyle({'stick':{}})\n",
        "view.zoomTo()\n",
        "view.show()\n"
      ]
    },
    {
      "cell_type": "markdown",
      "source": [
        "This yields an interactive 3D display of the molecule in a Jupyter notebook."
      ],
      "metadata": {
        "id": "EFn0Bxo03iMy"
      }
    },
    {
      "source": [
        "import py3Dmol\n",
        "\n",
        "# Prompt the user for the file path\n",
        "file_path = input(\"Enter the path to your XYZ file: \")\n",
        "\n",
        "# Read the data from the file\n",
        "with open(file_path, 'r') as f:\n",
        "    xyz_data = f.read()\n",
        "\n",
        "# Create and display the 3D model\n",
        "view = py3Dmol.view(width=400, height=300)\n",
        "view.addModel(xyz_data, \"xyz\")\n",
        "view.setStyle({'stick': {}})\n",
        "view.zoomTo()\n",
        "view.show()"
      ],
      "cell_type": "code",
      "metadata": {
        "colab": {
          "base_uri": "https://localhost:8080/",
          "height": 334
        },
        "id": "kRx0UCJu66Wl",
        "outputId": "154173cf-9f0c-46d2-af61-c7f82a06b354"
      },
      "execution_count": 4,
      "outputs": [
        {
          "name": "stdout",
          "output_type": "stream",
          "text": [
            "Enter the path to your XYZ file: /content/output.xyz\n"
          ]
        },
        {
          "output_type": "display_data",
          "data": {
            "application/3dmoljs_load.v0": "<div id=\"3dmolviewer_17411549950870135\"  style=\"position: relative; width: 400px; height: 300px;\">\n        <p id=\"3dmolwarning_17411549950870135\" style=\"background-color:#ffcccc;color:black\">3Dmol.js failed to load for some reason.  Please check your browser console for error messages.<br></p>\n        </div>\n<script>\n\nvar loadScriptAsync = function(uri){\n  return new Promise((resolve, reject) => {\n    //this is to ignore the existence of requirejs amd\n    var savedexports, savedmodule;\n    if (typeof exports !== 'undefined') savedexports = exports;\n    else exports = {}\n    if (typeof module !== 'undefined') savedmodule = module;\n    else module = {}\n\n    var tag = document.createElement('script');\n    tag.src = uri;\n    tag.async = true;\n    tag.onload = () => {\n        exports = savedexports;\n        module = savedmodule;\n        resolve();\n    };\n  var firstScriptTag = document.getElementsByTagName('script')[0];\n  firstScriptTag.parentNode.insertBefore(tag, firstScriptTag);\n});\n};\n\nif(typeof $3Dmolpromise === 'undefined') {\n$3Dmolpromise = null;\n  $3Dmolpromise = loadScriptAsync('https://cdnjs.cloudflare.com/ajax/libs/3Dmol/2.4.2/3Dmol-min.js');\n}\n\nvar viewer_17411549950870135 = null;\nvar warn = document.getElementById(\"3dmolwarning_17411549950870135\");\nif(warn) {\n    warn.parentNode.removeChild(warn);\n}\n$3Dmolpromise.then(function() {\nviewer_17411549950870135 = $3Dmol.createViewer(document.getElementById(\"3dmolviewer_17411549950870135\"),{backgroundColor:\"white\"});\nviewer_17411549950870135.zoomTo();\n\tviewer_17411549950870135.addModel(\"28\\nLattice=\\\"4.65491719 0.0 0.0 0.0 5.9707551 0.0 0.0 0.0 10.23619605\\\" Properties=species:S:1:pos:R:3:spacegroup_kinds:I:1 spacegroup=\\\"P 1\\\" unit_cell=conventional occupancy=\\\"_JSON {\\\\\\\"0\\\\\\\": {\\\\\\\"Li\\\\\\\": 1}, \\\\\\\"1\\\\\\\": {\\\\\\\"Li\\\\\\\": 1}, \\\\\\\"2\\\\\\\": {\\\\\\\"Li\\\\\\\": 1}, \\\\\\\"3\\\\\\\": {\\\\\\\"Li\\\\\\\": 1}, \\\\\\\"4\\\\\\\": {\\\\\\\"Fe\\\\\\\": 1}, \\\\\\\"5\\\\\\\": {\\\\\\\"Fe\\\\\\\": 1}, \\\\\\\"6\\\\\\\": {\\\\\\\"Fe\\\\\\\": 1}, \\\\\\\"7\\\\\\\": {\\\\\\\"Fe\\\\\\\": 1}, \\\\\\\"8\\\\\\\": {\\\\\\\"P\\\\\\\": 1}, \\\\\\\"9\\\\\\\": {\\\\\\\"P\\\\\\\": 1}, \\\\\\\"10\\\\\\\": {\\\\\\\"P\\\\\\\": 1}, \\\\\\\"11\\\\\\\": {\\\\\\\"P\\\\\\\": 1}, \\\\\\\"12\\\\\\\": {\\\\\\\"O\\\\\\\": 1}, \\\\\\\"13\\\\\\\": {\\\\\\\"O\\\\\\\": 1}, \\\\\\\"14\\\\\\\": {\\\\\\\"O\\\\\\\": 1}, \\\\\\\"15\\\\\\\": {\\\\\\\"O\\\\\\\": 1}, \\\\\\\"16\\\\\\\": {\\\\\\\"O\\\\\\\": 1}, \\\\\\\"17\\\\\\\": {\\\\\\\"O\\\\\\\": 1}, \\\\\\\"18\\\\\\\": {\\\\\\\"O\\\\\\\": 1}, \\\\\\\"19\\\\\\\": {\\\\\\\"O\\\\\\\": 1}, \\\\\\\"20\\\\\\\": {\\\\\\\"O\\\\\\\": 1}, \\\\\\\"21\\\\\\\": {\\\\\\\"O\\\\\\\": 1}, \\\\\\\"22\\\\\\\": {\\\\\\\"O\\\\\\\": 1}, \\\\\\\"23\\\\\\\": {\\\\\\\"O\\\\\\\": 1}, \\\\\\\"24\\\\\\\": {\\\\\\\"O\\\\\\\": 1}, \\\\\\\"25\\\\\\\": {\\\\\\\"O\\\\\\\": 1}, \\\\\\\"26\\\\\\\": {\\\\\\\"O\\\\\\\": 1}, \\\\\\\"27\\\\\\\": {\\\\\\\"O\\\\\\\": 1}}\\\" pbc=\\\"T T T\\\"\\nLi       0.00000000       0.00000000       0.00000000        0\\nLi       2.32745859       2.98537755       5.11809803        1\\nLi       2.32745859       0.00000000       5.11809803        2\\nLi       0.00000000       2.98537755       0.00000000        3\\nFe       2.46648109       1.49268877       7.99601754        4\\nFe       0.13902250       4.47806633       7.35827653        5\\nFe       4.51589469       1.49268877       2.87791952        6\\nFe       2.18843610       4.47806633       2.24017851        7\\nP        1.94865340       1.49268877       0.96083385        8\\nP        4.27611199       4.47806633       4.15726418        9\\nP        0.37880520       1.49268877       6.07893187       10\\nP        2.70626379       4.47806633       9.27536220       11\\nO        3.46691976       1.49268877       0.96456361       12\\nO        3.32237890       3.25739339       8.53856920       13\\nO        3.32237890       5.69873926       8.53856920       14\\nO        1.18799743       4.47806633       9.27163244       15\\nO        3.30436023       4.47806633       0.45355111       16\\nO        1.13946117       4.47806633       4.15353441       17\\nO        1.33253829       0.27201584       1.69762685       18\\nO        0.99492031       2.71336171       6.81572487       19\\nO        3.65999688       3.25739339       3.42047118       20\\nO        3.65999688       5.69873926       3.42047118       21\\nO        1.35055696       1.49268877       9.78264494       22\\nO        0.97690164       1.49268877       4.66454692       23\\nO        3.67801555       4.47806633       5.57164913       24\\nO        3.51545602       1.49268877       6.08266164       25\\nO        0.99492031       0.27201584       6.81572487       26\\nO        1.33253829       2.71336171       1.69762685       27\\n\",\"xyz\");\n\tviewer_17411549950870135.setStyle({\"stick\": {}});\n\tviewer_17411549950870135.zoomTo();\nviewer_17411549950870135.render();\n});\n</script>",
            "text/html": [
              "<div id=\"3dmolviewer_17411549950870135\"  style=\"position: relative; width: 400px; height: 300px;\">\n",
              "        <p id=\"3dmolwarning_17411549950870135\" style=\"background-color:#ffcccc;color:black\">3Dmol.js failed to load for some reason.  Please check your browser console for error messages.<br></p>\n",
              "        </div>\n",
              "<script>\n",
              "\n",
              "var loadScriptAsync = function(uri){\n",
              "  return new Promise((resolve, reject) => {\n",
              "    //this is to ignore the existence of requirejs amd\n",
              "    var savedexports, savedmodule;\n",
              "    if (typeof exports !== 'undefined') savedexports = exports;\n",
              "    else exports = {}\n",
              "    if (typeof module !== 'undefined') savedmodule = module;\n",
              "    else module = {}\n",
              "\n",
              "    var tag = document.createElement('script');\n",
              "    tag.src = uri;\n",
              "    tag.async = true;\n",
              "    tag.onload = () => {\n",
              "        exports = savedexports;\n",
              "        module = savedmodule;\n",
              "        resolve();\n",
              "    };\n",
              "  var firstScriptTag = document.getElementsByTagName('script')[0];\n",
              "  firstScriptTag.parentNode.insertBefore(tag, firstScriptTag);\n",
              "});\n",
              "};\n",
              "\n",
              "if(typeof $3Dmolpromise === 'undefined') {\n",
              "$3Dmolpromise = null;\n",
              "  $3Dmolpromise = loadScriptAsync('https://cdnjs.cloudflare.com/ajax/libs/3Dmol/2.4.2/3Dmol-min.js');\n",
              "}\n",
              "\n",
              "var viewer_17411549950870135 = null;\n",
              "var warn = document.getElementById(\"3dmolwarning_17411549950870135\");\n",
              "if(warn) {\n",
              "    warn.parentNode.removeChild(warn);\n",
              "}\n",
              "$3Dmolpromise.then(function() {\n",
              "viewer_17411549950870135 = $3Dmol.createViewer(document.getElementById(\"3dmolviewer_17411549950870135\"),{backgroundColor:\"white\"});\n",
              "viewer_17411549950870135.zoomTo();\n",
              "\tviewer_17411549950870135.addModel(\"28\\nLattice=\\\"4.65491719 0.0 0.0 0.0 5.9707551 0.0 0.0 0.0 10.23619605\\\" Properties=species:S:1:pos:R:3:spacegroup_kinds:I:1 spacegroup=\\\"P 1\\\" unit_cell=conventional occupancy=\\\"_JSON {\\\\\\\"0\\\\\\\": {\\\\\\\"Li\\\\\\\": 1}, \\\\\\\"1\\\\\\\": {\\\\\\\"Li\\\\\\\": 1}, \\\\\\\"2\\\\\\\": {\\\\\\\"Li\\\\\\\": 1}, \\\\\\\"3\\\\\\\": {\\\\\\\"Li\\\\\\\": 1}, \\\\\\\"4\\\\\\\": {\\\\\\\"Fe\\\\\\\": 1}, \\\\\\\"5\\\\\\\": {\\\\\\\"Fe\\\\\\\": 1}, \\\\\\\"6\\\\\\\": {\\\\\\\"Fe\\\\\\\": 1}, \\\\\\\"7\\\\\\\": {\\\\\\\"Fe\\\\\\\": 1}, \\\\\\\"8\\\\\\\": {\\\\\\\"P\\\\\\\": 1}, \\\\\\\"9\\\\\\\": {\\\\\\\"P\\\\\\\": 1}, \\\\\\\"10\\\\\\\": {\\\\\\\"P\\\\\\\": 1}, \\\\\\\"11\\\\\\\": {\\\\\\\"P\\\\\\\": 1}, \\\\\\\"12\\\\\\\": {\\\\\\\"O\\\\\\\": 1}, \\\\\\\"13\\\\\\\": {\\\\\\\"O\\\\\\\": 1}, \\\\\\\"14\\\\\\\": {\\\\\\\"O\\\\\\\": 1}, \\\\\\\"15\\\\\\\": {\\\\\\\"O\\\\\\\": 1}, \\\\\\\"16\\\\\\\": {\\\\\\\"O\\\\\\\": 1}, \\\\\\\"17\\\\\\\": {\\\\\\\"O\\\\\\\": 1}, \\\\\\\"18\\\\\\\": {\\\\\\\"O\\\\\\\": 1}, \\\\\\\"19\\\\\\\": {\\\\\\\"O\\\\\\\": 1}, \\\\\\\"20\\\\\\\": {\\\\\\\"O\\\\\\\": 1}, \\\\\\\"21\\\\\\\": {\\\\\\\"O\\\\\\\": 1}, \\\\\\\"22\\\\\\\": {\\\\\\\"O\\\\\\\": 1}, \\\\\\\"23\\\\\\\": {\\\\\\\"O\\\\\\\": 1}, \\\\\\\"24\\\\\\\": {\\\\\\\"O\\\\\\\": 1}, \\\\\\\"25\\\\\\\": {\\\\\\\"O\\\\\\\": 1}, \\\\\\\"26\\\\\\\": {\\\\\\\"O\\\\\\\": 1}, \\\\\\\"27\\\\\\\": {\\\\\\\"O\\\\\\\": 1}}\\\" pbc=\\\"T T T\\\"\\nLi       0.00000000       0.00000000       0.00000000        0\\nLi       2.32745859       2.98537755       5.11809803        1\\nLi       2.32745859       0.00000000       5.11809803        2\\nLi       0.00000000       2.98537755       0.00000000        3\\nFe       2.46648109       1.49268877       7.99601754        4\\nFe       0.13902250       4.47806633       7.35827653        5\\nFe       4.51589469       1.49268877       2.87791952        6\\nFe       2.18843610       4.47806633       2.24017851        7\\nP        1.94865340       1.49268877       0.96083385        8\\nP        4.27611199       4.47806633       4.15726418        9\\nP        0.37880520       1.49268877       6.07893187       10\\nP        2.70626379       4.47806633       9.27536220       11\\nO        3.46691976       1.49268877       0.96456361       12\\nO        3.32237890       3.25739339       8.53856920       13\\nO        3.32237890       5.69873926       8.53856920       14\\nO        1.18799743       4.47806633       9.27163244       15\\nO        3.30436023       4.47806633       0.45355111       16\\nO        1.13946117       4.47806633       4.15353441       17\\nO        1.33253829       0.27201584       1.69762685       18\\nO        0.99492031       2.71336171       6.81572487       19\\nO        3.65999688       3.25739339       3.42047118       20\\nO        3.65999688       5.69873926       3.42047118       21\\nO        1.35055696       1.49268877       9.78264494       22\\nO        0.97690164       1.49268877       4.66454692       23\\nO        3.67801555       4.47806633       5.57164913       24\\nO        3.51545602       1.49268877       6.08266164       25\\nO        0.99492031       0.27201584       6.81572487       26\\nO        1.33253829       2.71336171       1.69762685       27\\n\",\"xyz\");\n",
              "\tviewer_17411549950870135.setStyle({\"stick\": {}});\n",
              "\tviewer_17411549950870135.zoomTo();\n",
              "viewer_17411549950870135.render();\n",
              "});\n",
              "</script>"
            ]
          },
          "metadata": {}
        }
      ]
    },
    {
      "cell_type": "code",
      "source": [],
      "metadata": {
        "id": "bgD_3cpi-RHj"
      },
      "execution_count": null,
      "outputs": []
    },
    {
      "source": [
        "import py3Dmol\n",
        "\n",
        "# Prompt the user for the file path\n",
        "file_path = input(\"Enter the path to your XYZ file: \")\n",
        "\n",
        "# Read the data from the file\n",
        "with open(file_path, 'r') as f:\n",
        "    xyz_data = f.read()\n",
        "\n",
        "# Create and display the 3D model\n",
        "view = py3Dmol.view(width=400, height=300)\n",
        "view.addModel(xyz_data, \"xyz\")\n",
        "view.setStyle({'stick': {}})\n",
        "view.zoomTo()\n",
        "view.show()"
      ],
      "cell_type": "code",
      "metadata": {
        "id": "aqhuZPXk-Ry5"
      },
      "execution_count": null,
      "outputs": []
    }
  ]
}