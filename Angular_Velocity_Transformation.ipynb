{
  "nbformat": 4,
  "nbformat_minor": 0,
  "metadata": {
    "colab": {
      "provenance": [],
      "authorship_tag": "ABX9TyMbAM/NQSSbGeQgymQZD52C",
      "include_colab_link": true
    },
    "kernelspec": {
      "name": "python3",
      "display_name": "Python 3"
    },
    "language_info": {
      "name": "python"
    }
  },
  "cells": [
    {
      "cell_type": "markdown",
      "metadata": {
        "id": "view-in-github",
        "colab_type": "text"
      },
      "source": [
        "<a href=\"https://colab.research.google.com/github/Laere11/Laere11/blob/Robotics/Angular_Velocity_Transformation.ipynb\" target=\"_parent\"><img src=\"https://colab.research.google.com/assets/colab-badge.svg\" alt=\"Open In Colab\"/></a>"
      ]
    },
    {
      "cell_type": "code",
      "execution_count": 4,
      "metadata": {
        "colab": {
          "base_uri": "https://localhost:8080/"
        },
        "id": "mqrjWFgZPia-",
        "outputId": "d82714a8-8788-4c25-c02e-50ac119dadc6"
      },
      "outputs": [
        {
          "output_type": "stream",
          "name": "stdout",
          "text": [
            "Enter the rotation matrix R(ab) row by row.\n",
            "Enter row 1 (3 numbers separated by space): 1 0 0\n",
            "Enter row 2 (3 numbers separated by space): 0 0 -1\n",
            "Enter row 3 (3 numbers separated by space): 0 1 0\n",
            "Enter the angular velocity vector in frame (a) (3 numbers separated by space): 2 -1 3\n",
            "\n",
            "The angular velocity vector in frame (b) is:\n",
            "[ 2. -3. -1.]\n"
          ]
        }
      ],
      "source": [
        "import numpy as np\n",
        "\n",
        "def main():\n",
        "    # Prompt the user to input the 3x3 rotation matrix R(ab)\n",
        "    print(\"Enter the rotation matrix R(ab) row by row.\")\n",
        "    R_rows = []\n",
        "    for i in range(3):\n",
        "        row = input(f\"Enter row {i+1} (3 numbers separated by space): \")\n",
        "        try:\n",
        "            row_values = [float(val) for val in row.strip().split()]\n",
        "            if len(row_values) != 3:\n",
        "                raise ValueError(\"Each row must contain exactly 3 numbers.\")\n",
        "            R_rows.append(row_values)\n",
        "        except ValueError as e:\n",
        "            print(f\"Invalid input: {e}\")\n",
        "            return\n",
        "    R_ab = np.array(R_rows)\n",
        "\n",
        "    # Prompt the user to input the angular velocity vector in frame (a)\n",
        "    w_a_input = input(\"Enter the angular velocity vector in frame (a) (3 numbers separated by space): \")\n",
        "    try:\n",
        "        w_a = np.array([float(val) for val in w_a_input.strip().split()])\n",
        "        if w_a.shape[0] != 3:\n",
        "            raise ValueError(\"Angular velocity vector must have exactly 3 components.\")\n",
        "    except ValueError as e:\n",
        "        print(f\"Invalid input: {e}\")\n",
        "        return\n",
        "\n",
        "    # Calculate the angular velocity in frame (b)\n",
        "    # Using the relation: omega_a = R_ab * omega_b  ==>  omega_b = R_ab.T * omega_a\n",
        "    w_b = R_ab.dot(w_a)\n",
        "\n",
        "\n",
        "    print(\"\\nThe angular velocity vector in frame (b) is:\")\n",
        "    print(w_b)\n",
        "\n",
        "if __name__ == \"__main__\":\n",
        "    main()\n"
      ]
    }
  ]
}