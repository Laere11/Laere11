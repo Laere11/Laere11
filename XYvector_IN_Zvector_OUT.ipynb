{
  "nbformat": 4,
  "nbformat_minor": 0,
  "metadata": {
    "colab": {
      "provenance": [],
      "authorship_tag": "ABX9TyN1kr3vLlv0+VWpuHsMmLNC",
      "include_colab_link": true
    },
    "kernelspec": {
      "name": "python3",
      "display_name": "Python 3"
    },
    "language_info": {
      "name": "python"
    }
  },
  "cells": [
    {
      "cell_type": "markdown",
      "metadata": {
        "id": "view-in-github",
        "colab_type": "text"
      },
      "source": [
        "<a href=\"https://colab.research.google.com/github/Laere11/Laere11/blob/main/XYvector_IN_Zvector_OUT.ipynb\" target=\"_parent\"><img src=\"https://colab.research.google.com/assets/colab-badge.svg\" alt=\"Open In Colab\"/></a>"
      ]
    },
    {
      "cell_type": "markdown",
      "source": [
        "Prompts the user for the X and Y vector values and then computes the Z vector information.  Then it displays the 3x3 matrix using the convention of axis represented as columns."
      ],
      "metadata": {
        "id": "Z0SUbIyY6tYB"
      }
    },
    {
      "cell_type": "code",
      "execution_count": 1,
      "metadata": {
        "colab": {
          "base_uri": "https://localhost:8080/"
        },
        "id": "ZtgzCnBd6ffU",
        "outputId": "0b83cb00-124d-4269-e591-3cf53862ef86"
      },
      "outputs": [
        {
          "output_type": "stream",
          "name": "stdout",
          "text": [
            "Enter the 3 components of the x-axis vector (separated by spaces): 0 0 1\n",
            "Enter the 3 components of the y-axis vector (separated by spaces): -1 0 0\n",
            "\n",
            "The computed z-axis vector (x × y) is: [ 0. -1.  0.]\n",
            "\n",
            "The 3x3 matrix with axes as columns is:\n",
            "[[ 0. -1.  0.]\n",
            " [ 0.  0. -1.]\n",
            " [ 1.  0.  0.]]\n"
          ]
        }
      ],
      "source": [
        "import numpy as np\n",
        "\n",
        "def main():\n",
        "    # Prompt for x-axis vector components\n",
        "    x_input = input(\"Enter the 3 components of the x-axis vector (separated by spaces): \")\n",
        "    x_components = list(map(float, x_input.split()))\n",
        "    if len(x_components) != 3:\n",
        "        print(\"Error: Please enter exactly 3 numbers for the x-axis vector.\")\n",
        "        return\n",
        "\n",
        "    # Prompt for y-axis vector components\n",
        "    y_input = input(\"Enter the 3 components of the y-axis vector (separated by spaces): \")\n",
        "    y_components = list(map(float, y_input.split()))\n",
        "    if len(y_components) != 3:\n",
        "        print(\"Error: Please enter exactly 3 numbers for the y-axis vector.\")\n",
        "        return\n",
        "\n",
        "    # Convert lists to numpy arrays for computation\n",
        "    x = np.array(x_components)\n",
        "    y = np.array(y_components)\n",
        "\n",
        "    # Compute the z-axis as the cross product of x and y (ensuring a right-handed system)\n",
        "    z = np.cross(x, y)\n",
        "    print(\"\\nThe computed z-axis vector (x × y) is:\", z)\n",
        "\n",
        "    # Form the 3x3 matrix with the axes as columns\n",
        "    matrix = np.column_stack((x, y, z))\n",
        "    print(\"\\nThe 3x3 matrix with axes as columns is:\")\n",
        "    print(matrix)\n",
        "\n",
        "if __name__ == \"__main__\":\n",
        "    main()\n"
      ]
    }
  ]
}