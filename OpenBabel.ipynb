{
  "nbformat": 4,
  "nbformat_minor": 0,
  "metadata": {
    "colab": {
      "provenance": [],
      "authorship_tag": "ABX9TyOvLLIgJrFbl/NKSbtg4PBG",
      "include_colab_link": true
    },
    "kernelspec": {
      "name": "python3",
      "display_name": "Python 3"
    },
    "language_info": {
      "name": "python"
    },
    "widgets": {
      "application/vnd.jupyter.widget-state+json": {
        "2cc7a5f7d9f4409fbd5dcad45bbd9736": {
          "model_module": "@jupyter-widgets/controls",
          "model_name": "FileUploadModel",
          "model_module_version": "1.5.0",
          "state": {
            "_counter": 1,
            "_dom_classes": [],
            "_model_module": "@jupyter-widgets/controls",
            "_model_module_version": "1.5.0",
            "_model_name": "FileUploadModel",
            "_view_count": null,
            "_view_module": "@jupyter-widgets/controls",
            "_view_module_version": "1.5.0",
            "_view_name": "FileUploadView",
            "accept": ".cif",
            "button_style": "",
            "data": [
              null
            ],
            "description": "Select CIF file:",
            "description_tooltip": null,
            "disabled": false,
            "error": "",
            "icon": "upload",
            "layout": "IPY_MODEL_df83d49cc69f48d39c9fba7c657d60ba",
            "metadata": [
              {
                "name": "NaCl.cif",
                "type": "",
                "size": 1154,
                "lastModified": 1741158120305
              }
            ],
            "multiple": false,
            "style": "IPY_MODEL_202b06609c694f1291b2ba4628f7174e"
          }
        },
        "df83d49cc69f48d39c9fba7c657d60ba": {
          "model_module": "@jupyter-widgets/base",
          "model_name": "LayoutModel",
          "model_module_version": "1.2.0",
          "state": {
            "_model_module": "@jupyter-widgets/base",
            "_model_module_version": "1.2.0",
            "_model_name": "LayoutModel",
            "_view_count": null,
            "_view_module": "@jupyter-widgets/base",
            "_view_module_version": "1.2.0",
            "_view_name": "LayoutView",
            "align_content": null,
            "align_items": null,
            "align_self": null,
            "border": null,
            "bottom": null,
            "display": null,
            "flex": null,
            "flex_flow": null,
            "grid_area": null,
            "grid_auto_columns": null,
            "grid_auto_flow": null,
            "grid_auto_rows": null,
            "grid_column": null,
            "grid_gap": null,
            "grid_row": null,
            "grid_template_areas": null,
            "grid_template_columns": null,
            "grid_template_rows": null,
            "height": null,
            "justify_content": null,
            "justify_items": null,
            "left": null,
            "margin": null,
            "max_height": null,
            "max_width": null,
            "min_height": null,
            "min_width": null,
            "object_fit": null,
            "object_position": null,
            "order": null,
            "overflow": null,
            "overflow_x": null,
            "overflow_y": null,
            "padding": null,
            "right": null,
            "top": null,
            "visibility": null,
            "width": null
          }
        },
        "202b06609c694f1291b2ba4628f7174e": {
          "model_module": "@jupyter-widgets/controls",
          "model_name": "ButtonStyleModel",
          "model_module_version": "1.5.0",
          "state": {
            "_model_module": "@jupyter-widgets/controls",
            "_model_module_version": "1.5.0",
            "_model_name": "ButtonStyleModel",
            "_view_count": null,
            "_view_module": "@jupyter-widgets/base",
            "_view_module_version": "1.2.0",
            "_view_name": "StyleView",
            "button_color": null,
            "font_weight": ""
          }
        },
        "c3ea5333f926467788bbefe39cd7f5fd": {
          "model_module": "@jupyter-widgets/controls",
          "model_name": "DropdownModel",
          "model_module_version": "1.5.0",
          "state": {
            "_dom_classes": [],
            "_model_module": "@jupyter-widgets/controls",
            "_model_module_version": "1.5.0",
            "_model_name": "DropdownModel",
            "_options_labels": [
              "XYZ",
              "PDB",
              "SDF"
            ],
            "_view_count": null,
            "_view_module": "@jupyter-widgets/controls",
            "_view_module_version": "1.5.0",
            "_view_name": "DropdownView",
            "description": "Output Format:",
            "description_tooltip": null,
            "disabled": false,
            "index": 2,
            "layout": "IPY_MODEL_d6baa42b0f2e4d2baabba86fb355d00b",
            "style": "IPY_MODEL_9783c0bf810c4e0daa11713650f17498"
          }
        },
        "d6baa42b0f2e4d2baabba86fb355d00b": {
          "model_module": "@jupyter-widgets/base",
          "model_name": "LayoutModel",
          "model_module_version": "1.2.0",
          "state": {
            "_model_module": "@jupyter-widgets/base",
            "_model_module_version": "1.2.0",
            "_model_name": "LayoutModel",
            "_view_count": null,
            "_view_module": "@jupyter-widgets/base",
            "_view_module_version": "1.2.0",
            "_view_name": "LayoutView",
            "align_content": null,
            "align_items": null,
            "align_self": null,
            "border": null,
            "bottom": null,
            "display": null,
            "flex": null,
            "flex_flow": null,
            "grid_area": null,
            "grid_auto_columns": null,
            "grid_auto_flow": null,
            "grid_auto_rows": null,
            "grid_column": null,
            "grid_gap": null,
            "grid_row": null,
            "grid_template_areas": null,
            "grid_template_columns": null,
            "grid_template_rows": null,
            "height": null,
            "justify_content": null,
            "justify_items": null,
            "left": null,
            "margin": null,
            "max_height": null,
            "max_width": null,
            "min_height": null,
            "min_width": null,
            "object_fit": null,
            "object_position": null,
            "order": null,
            "overflow": null,
            "overflow_x": null,
            "overflow_y": null,
            "padding": null,
            "right": null,
            "top": null,
            "visibility": null,
            "width": null
          }
        },
        "9783c0bf810c4e0daa11713650f17498": {
          "model_module": "@jupyter-widgets/controls",
          "model_name": "DescriptionStyleModel",
          "model_module_version": "1.5.0",
          "state": {
            "_model_module": "@jupyter-widgets/controls",
            "_model_module_version": "1.5.0",
            "_model_name": "DescriptionStyleModel",
            "_view_count": null,
            "_view_module": "@jupyter-widgets/base",
            "_view_module_version": "1.2.0",
            "_view_name": "StyleView",
            "description_width": ""
          }
        },
        "833bd2a7c77f417abdf90aef6a50abeb": {
          "model_module": "@jupyter-widgets/controls",
          "model_name": "ButtonModel",
          "model_module_version": "1.5.0",
          "state": {
            "_dom_classes": [],
            "_model_module": "@jupyter-widgets/controls",
            "_model_module_version": "1.5.0",
            "_model_name": "ButtonModel",
            "_view_count": null,
            "_view_module": "@jupyter-widgets/controls",
            "_view_module_version": "1.5.0",
            "_view_name": "ButtonView",
            "button_style": "",
            "description": "Convert",
            "disabled": false,
            "icon": "",
            "layout": "IPY_MODEL_93a3f9f262ae4a31928d8feed9187432",
            "style": "IPY_MODEL_a738a7f0e31d4d00a9ed76b0c45b5afe",
            "tooltip": ""
          }
        },
        "93a3f9f262ae4a31928d8feed9187432": {
          "model_module": "@jupyter-widgets/base",
          "model_name": "LayoutModel",
          "model_module_version": "1.2.0",
          "state": {
            "_model_module": "@jupyter-widgets/base",
            "_model_module_version": "1.2.0",
            "_model_name": "LayoutModel",
            "_view_count": null,
            "_view_module": "@jupyter-widgets/base",
            "_view_module_version": "1.2.0",
            "_view_name": "LayoutView",
            "align_content": null,
            "align_items": null,
            "align_self": null,
            "border": null,
            "bottom": null,
            "display": null,
            "flex": null,
            "flex_flow": null,
            "grid_area": null,
            "grid_auto_columns": null,
            "grid_auto_flow": null,
            "grid_auto_rows": null,
            "grid_column": null,
            "grid_gap": null,
            "grid_row": null,
            "grid_template_areas": null,
            "grid_template_columns": null,
            "grid_template_rows": null,
            "height": null,
            "justify_content": null,
            "justify_items": null,
            "left": null,
            "margin": null,
            "max_height": null,
            "max_width": null,
            "min_height": null,
            "min_width": null,
            "object_fit": null,
            "object_position": null,
            "order": null,
            "overflow": null,
            "overflow_x": null,
            "overflow_y": null,
            "padding": null,
            "right": null,
            "top": null,
            "visibility": null,
            "width": null
          }
        },
        "a738a7f0e31d4d00a9ed76b0c45b5afe": {
          "model_module": "@jupyter-widgets/controls",
          "model_name": "ButtonStyleModel",
          "model_module_version": "1.5.0",
          "state": {
            "_model_module": "@jupyter-widgets/controls",
            "_model_module_version": "1.5.0",
            "_model_name": "ButtonStyleModel",
            "_view_count": null,
            "_view_module": "@jupyter-widgets/base",
            "_view_module_version": "1.2.0",
            "_view_name": "StyleView",
            "button_color": null,
            "font_weight": ""
          }
        }
      }
    }
  },
  "cells": [
    {
      "cell_type": "markdown",
      "metadata": {
        "id": "view-in-github",
        "colab_type": "text"
      },
      "source": [
        "<a href=\"https://colab.research.google.com/github/Laere11/Laere11/blob/Material-Sciences/OpenBabel.ipynb\" target=\"_parent\"><img src=\"https://colab.research.google.com/assets/colab-badge.svg\" alt=\"Open In Colab\"/></a>"
      ]
    },
    {
      "cell_type": "markdown",
      "source": [
        "# **Using OpenBabel**\n",
        "\n",
        "OpenBabel is a command-line tool that can interconvert between hundreds of chemical file formats. You can use it directly in the terminal:"
      ],
      "metadata": {
        "id": "z6Zoou6CqIKv"
      }
    },
    {
      "cell_type": "markdown",
      "source": [
        "Convert to XYZ:"
      ],
      "metadata": {
        "id": "rU8V6qDhpg4R"
      }
    },
    {
      "cell_type": "code",
      "execution_count": null,
      "metadata": {
        "id": "z7jackMqo8-5"
      },
      "outputs": [],
      "source": [
        "obabel -icif input.cif -oxyz -O output.xyz\n"
      ]
    },
    {
      "cell_type": "markdown",
      "source": [
        "Convert to PDB:"
      ],
      "metadata": {
        "id": "cpm03Hejpkk-"
      }
    },
    {
      "cell_type": "code",
      "source": [
        "obabel -icif input.cif -opdb -O output.pdb\n"
      ],
      "metadata": {
        "id": "lxCVmMK2pGHr"
      },
      "execution_count": null,
      "outputs": []
    },
    {
      "cell_type": "markdown",
      "source": [
        "Convert to SDF:"
      ],
      "metadata": {
        "id": "1s8ICkfqpoys"
      }
    },
    {
      "cell_type": "code",
      "source": [
        "obabel -icif input.cif -osdf -O output.sdf\n"
      ],
      "metadata": {
        "id": "WxBOUw_ZpONZ"
      },
      "execution_count": null,
      "outputs": []
    },
    {
      "cell_type": "markdown",
      "source": [
        "**Additional Notes**\n",
        "\n",
        "**Periodic vs. Discrete Molecules:**\n",
        "\n",
        "CIF files are often used for periodic crystal structures, whereas SDF is generally used for individual molecules. If your CIF represents a molecular crystal, additional processing may be needed to “extract” the molecular unit before converting to SDF.\n",
        "\n",
        "**Integration in ML Workflows:**\n",
        "\n",
        "These conversions are often integrated into ML workflows where you might extract atomic coordinates (for example, using Pymatgen or ASE) and then feed them into your ML models."
      ],
      "metadata": {
        "id": "SkuzC-9Mp5jR"
      }
    },
    {
      "cell_type": "markdown",
      "source": [
        "Working Code"
      ],
      "metadata": {
        "id": "TEu0aUHY0WUN"
      }
    },
    {
      "cell_type": "code",
      "source": [
        "# Install system-level Open Babel and its Python bindings, plus a wheel with precompiled bindings\n",
        "!apt-get update\n",
        "!apt-get install -y openbabel python3-openbabel -qq\n",
        "!pip install openbabel-wheel\n",
        "\n",
        "# Import necessary libraries\n",
        "import os\n",
        "import ipywidgets as widgets\n",
        "from IPython.display import display\n",
        "from openbabel import pybel  # Now loads the precompiled bindings\n",
        "\n",
        "def convert_cif(cif_file, output_format):\n",
        "    \"\"\"Converts a CIF file to the specified output format.\"\"\"\n",
        "    # Get the base file name without extension\n",
        "    base_name = os.path.splitext(cif_file)[0]\n",
        "    output_file = base_name + '.' + output_format.lower()\n",
        "\n",
        "    # Load the CIF file using pybel\n",
        "    mol = next(pybel.readfile(\"cif\", cif_file))\n",
        "\n",
        "    # Save to the desired format\n",
        "    mol.write(output_format.lower(), output_file, overwrite=True)\n",
        "    print(f\"Conversion complete. Output file: {output_file}\")\n",
        "\n",
        "# Create widgets for file selection and format selection\n",
        "cif_file_widget = widgets.FileUpload(accept=\".cif\", description=\"Select CIF file:\")\n",
        "output_format_widget = widgets.Dropdown(\n",
        "    options=[\"XYZ\", \"PDB\", \"SDF\"],\n",
        "    description=\"Output Format:\",\n",
        "    value=\"XYZ\",\n",
        ")\n",
        "\n",
        "convert_button = widgets.Button(description=\"Convert\")\n",
        "\n",
        "def on_convert_button_clicked(b):\n",
        "    # Use the provided file path \"/content/NaCl.cif\"\n",
        "    cif_file_path = \"/content/NaCl.cif\"\n",
        "\n",
        "    # If you wish to use the file upload widget instead, uncomment the code below:\n",
        "    # if cif_file_widget.value:\n",
        "    #     uploaded_file = cif_file_widget.value\n",
        "    #     file_name = list(uploaded_file.keys())[0]\n",
        "    #     cif_file_path = os.path.join(os.getcwd(), file_name)\n",
        "    #     with open(cif_file_path, \"wb\") as f:\n",
        "    #         f.write(uploaded_file[file_name]['content'])\n",
        "\n",
        "    output_format = output_format_widget.value\n",
        "    convert_cif(cif_file_path, output_format)\n",
        "\n",
        "convert_button.on_click(on_convert_button_clicked)\n",
        "\n",
        "# Display widgets\n",
        "display(cif_file_widget, output_format_widget, convert_button)\n"
      ],
      "metadata": {
        "colab": {
          "base_uri": "https://localhost:8080/",
          "height": 423,
          "referenced_widgets": [
            "2cc7a5f7d9f4409fbd5dcad45bbd9736",
            "df83d49cc69f48d39c9fba7c657d60ba",
            "202b06609c694f1291b2ba4628f7174e",
            "c3ea5333f926467788bbefe39cd7f5fd",
            "d6baa42b0f2e4d2baabba86fb355d00b",
            "9783c0bf810c4e0daa11713650f17498",
            "833bd2a7c77f417abdf90aef6a50abeb",
            "93a3f9f262ae4a31928d8feed9187432",
            "a738a7f0e31d4d00a9ed76b0c45b5afe"
          ]
        },
        "id": "oB0yu18e0Jce",
        "outputId": "b3d3495b-b3b7-4bc3-eec5-d30d768fc7b0"
      },
      "execution_count": 18,
      "outputs": [
        {
          "output_type": "stream",
          "name": "stdout",
          "text": [
            "\r0% [Working]\r            \rHit:1 https://cloud.r-project.org/bin/linux/ubuntu jammy-cran40/ InRelease\n",
            "Hit:2 https://developer.download.nvidia.com/compute/cuda/repos/ubuntu2204/x86_64  InRelease\n",
            "Hit:3 http://archive.ubuntu.com/ubuntu jammy InRelease\n",
            "Hit:4 https://r2u.stat.illinois.edu/ubuntu jammy InRelease\n",
            "Hit:5 http://security.ubuntu.com/ubuntu jammy-security InRelease\n",
            "Hit:6 http://archive.ubuntu.com/ubuntu jammy-updates InRelease\n",
            "Hit:7 http://archive.ubuntu.com/ubuntu jammy-backports InRelease\n",
            "Hit:8 https://ppa.launchpadcontent.net/deadsnakes/ppa/ubuntu jammy InRelease\n",
            "Hit:9 https://ppa.launchpadcontent.net/graphics-drivers/ppa/ubuntu jammy InRelease\n",
            "Hit:10 https://ppa.launchpadcontent.net/ubuntugis/ppa/ubuntu jammy InRelease\n",
            "Reading package lists... Done\n",
            "W: Skipping acquire of configured file 'main/source/Sources' as repository 'https://r2u.stat.illinois.edu/ubuntu jammy InRelease' does not seem to provide it (sources.list entry misspelt?)\n",
            "Requirement already satisfied: openbabel-wheel in /usr/local/lib/python3.11/dist-packages (3.1.1.21)\n"
          ]
        },
        {
          "output_type": "display_data",
          "data": {
            "text/plain": [
              "FileUpload(value={}, accept='.cif', description='Select CIF file:')"
            ],
            "application/vnd.jupyter.widget-view+json": {
              "version_major": 2,
              "version_minor": 0,
              "model_id": "2cc7a5f7d9f4409fbd5dcad45bbd9736"
            }
          },
          "metadata": {}
        },
        {
          "output_type": "display_data",
          "data": {
            "text/plain": [
              "Dropdown(description='Output Format:', options=('XYZ', 'PDB', 'SDF'), value='XYZ')"
            ],
            "application/vnd.jupyter.widget-view+json": {
              "version_major": 2,
              "version_minor": 0,
              "model_id": "c3ea5333f926467788bbefe39cd7f5fd"
            }
          },
          "metadata": {}
        },
        {
          "output_type": "display_data",
          "data": {
            "text/plain": [
              "Button(description='Convert', style=ButtonStyle())"
            ],
            "application/vnd.jupyter.widget-view+json": {
              "version_major": 2,
              "version_minor": 0,
              "model_id": "833bd2a7c77f417abdf90aef6a50abeb"
            }
          },
          "metadata": {}
        },
        {
          "output_type": "stream",
          "name": "stdout",
          "text": [
            "Conversion complete. Output file: /content/NaCl.xyz\n",
            "Conversion complete. Output file: /content/NaCl.pdb\n",
            "Conversion complete. Output file: /content/NaCl.sdf\n"
          ]
        }
      ]
    },
    {
      "cell_type": "markdown",
      "source": [
        "**Note-** The CIF file should be uploaded to the colab session directory.  This is also where the converted files will be written."
      ],
      "metadata": {
        "id": "frhC9Dsu49_J"
      }
    }
  ]
}