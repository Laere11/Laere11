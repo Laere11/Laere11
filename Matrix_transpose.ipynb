{
  "nbformat": 4,
  "nbformat_minor": 0,
  "metadata": {
    "colab": {
      "provenance": [],
      "authorship_tag": "ABX9TyPp2rptbGnpZlXbc2vjj5OG",
      "include_colab_link": true
    },
    "kernelspec": {
      "name": "python3",
      "display_name": "Python 3"
    },
    "language_info": {
      "name": "python"
    }
  },
  "cells": [
    {
      "cell_type": "markdown",
      "metadata": {
        "id": "view-in-github",
        "colab_type": "text"
      },
      "source": [
        "<a href=\"https://colab.research.google.com/github/Laere11/Laere11/blob/Robotics/Matrix_transpose.ipynb\" target=\"_parent\"><img src=\"https://colab.research.google.com/assets/colab-badge.svg\" alt=\"Open In Colab\"/></a>"
      ]
    },
    {
      "cell_type": "markdown",
      "source": [
        "The user inputs the 3x3 matrix and the transpose of that matrix is outputed."
      ],
      "metadata": {
        "id": "4fAjSzAkPAwA"
      }
    },
    {
      "cell_type": "code",
      "execution_count": 1,
      "metadata": {
        "colab": {
          "base_uri": "https://localhost:8080/"
        },
        "id": "zccuNsRIO57E",
        "outputId": "bd5c574e-485d-414e-fe5f-c7b60e2db758"
      },
      "outputs": [
        {
          "output_type": "stream",
          "name": "stdout",
          "text": [
            "Enter the elements of the 3x3 matrix row by row:\n",
            "Row 1 (enter 3 numbers separated by spaces): 0 -1 0\n",
            "Row 2 (enter 3 numbers separated by spaces): 1 0 0\n",
            "Row 3 (enter 3 numbers separated by spaces): 0 0 1\n",
            "The transpose of the matrix is:\n",
            "[0.0, 1.0, 0.0]\n",
            "[-1.0, 0.0, 0.0]\n",
            "[0.0, 0.0, 1.0]\n"
          ]
        }
      ],
      "source": [
        "def input_matrix():\n",
        "    matrix = []\n",
        "    print(\"Enter the elements of the 3x3 matrix row by row:\")\n",
        "    for i in range(3):\n",
        "        row_input = input(f\"Row {i+1} (enter 3 numbers separated by spaces): \").split()\n",
        "        if len(row_input) != 3:\n",
        "            print(\"Error: Please enter exactly 3 numbers for each row.\")\n",
        "            return None\n",
        "        row = [float(num) for num in row_input]\n",
        "        matrix.append(row)\n",
        "    return matrix\n",
        "\n",
        "def transpose(matrix):\n",
        "    # Create a new matrix by swapping rows and columns\n",
        "    return [[matrix[j][i] for j in range(3)] for i in range(3)]\n",
        "\n",
        "def main():\n",
        "    matrix = input_matrix()\n",
        "    if matrix is None:\n",
        "        return\n",
        "    transposed_matrix = transpose(matrix)\n",
        "    print(\"The transpose of the matrix is:\")\n",
        "    for row in transposed_matrix:\n",
        "        print(row)\n",
        "\n",
        "if __name__ == \"__main__\":\n",
        "    main()\n"
      ]
    }
  ]
}